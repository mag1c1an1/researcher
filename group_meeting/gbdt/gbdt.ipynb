{
 "cells": [
  {
   "cell_type": "code",
   "execution_count": 26,
   "metadata": {},
   "outputs": [],
   "source": [
    "import pandas as pd\n",
    "import numpy as np\n",
    "from sklearn.ensemble import GradientBoostingClassifier\n",
    "from sklearn import metrics\n",
    "import matplotlib as plt\n",
    "%matplotlib inline\n"
   ]
  },
  {
   "cell_type": "code",
   "execution_count": 33,
   "metadata": {},
   "outputs": [
    {
     "data": {
      "text/plain": [
       "0.0    85747\n",
       "1.0     1273\n",
       "Name: Disbursed, dtype: int64"
      ]
     },
     "execution_count": 33,
     "metadata": {},
     "output_type": "execute_result"
    }
   ],
   "source": [
    "train = pd.read_csv('train_modified.csv')\n",
    "target = 'Disbursed'  # Disbursed的值就是二元分类的输出\n",
    "IDcol = 'ID'\n",
    "train['Disbursed'].value_counts()\n"
   ]
  },
  {
   "cell_type": "code",
   "execution_count": 32,
   "metadata": {},
   "outputs": [
    {
     "name": "stdout",
     "output_type": "stream",
     "text": [
      "       Existing_EMI  Loan_Amount_Applied  Loan_Tenure_Applied  Monthly_Income  \\\n",
      "0               0.0             300000.0                  5.0           20000   \n",
      "1               0.0             200000.0                  2.0           35000   \n",
      "2               0.0             600000.0                  4.0           22500   \n",
      "3               0.0            1000000.0                  5.0           35000   \n",
      "4           25000.0             500000.0                  2.0          100000   \n",
      "...             ...                  ...                  ...             ...   \n",
      "87015       14500.0            1000000.0                  5.0           71901   \n",
      "87016           0.0                  0.0                  0.0           16000   \n",
      "87017           0.0                  0.0                  0.0          118000   \n",
      "87018       13660.0             800000.0                  5.0           98930   \n",
      "87019           0.0                  0.0                  0.0           42300   \n",
      "\n",
      "       Var4  Var5  Age  EMI_Loan_Submitted_Missing  Interest_Rate_Missing  \\\n",
      "0         1     0   37                           1                      1   \n",
      "1         3    13   30                           0                      0   \n",
      "2         1     0   34                           1                      1   \n",
      "3         3    10   28                           1                      1   \n",
      "4         3    17   31                           1                      1   \n",
      "...     ...   ...  ...                         ...                    ...   \n",
      "87015     3     9   46                           1                      1   \n",
      "87016     5     1   25                           0                      0   \n",
      "87017     3     8   43                           1                      1   \n",
      "87018     3    18   38                           1                      1   \n",
      "87019     4    12   27                           0                      0   \n",
      "\n",
      "       Loan_Amount_Submitted_Missing  ...  Var2_2  Var2_3  Var2_4  Var2_5  \\\n",
      "0                                  1  ...     0.0     0.0     0.0     0.0   \n",
      "1                                  0  ...     0.0     0.0     0.0     0.0   \n",
      "2                                  0  ...     0.0     0.0     0.0     0.0   \n",
      "3                                  0  ...     0.0     0.0     0.0     0.0   \n",
      "4                                  0  ...     0.0     0.0     0.0     0.0   \n",
      "...                              ...  ...     ...     ...     ...     ...   \n",
      "87015                              1  ...     0.0     0.0     0.0     0.0   \n",
      "87016                              0  ...     0.0     0.0     0.0     0.0   \n",
      "87017                              0  ...     0.0     0.0     0.0     0.0   \n",
      "87018                              0  ...     0.0     0.0     0.0     0.0   \n",
      "87019                              0  ...     0.0     0.0     0.0     0.0   \n",
      "\n",
      "       Var2_6  Mobile_Verified_0  Mobile_Verified_1  Source_0  Source_1  \\\n",
      "0         1.0                1.0                0.0       1.0       0.0   \n",
      "1         1.0                0.0                1.0       1.0       0.0   \n",
      "2         0.0                0.0                1.0       0.0       0.0   \n",
      "3         0.0                0.0                1.0       0.0       0.0   \n",
      "4         0.0                0.0                1.0       0.0       0.0   \n",
      "...       ...                ...                ...       ...       ...   \n",
      "87015     1.0                1.0                0.0       1.0       0.0   \n",
      "87016     1.0                0.0                1.0       1.0       0.0   \n",
      "87017     1.0                0.0                1.0       1.0       0.0   \n",
      "87018     1.0                0.0                1.0       1.0       0.0   \n",
      "87019     1.0                0.0                1.0       1.0       0.0   \n",
      "\n",
      "       Source_2  \n",
      "0           0.0  \n",
      "1           0.0  \n",
      "2           1.0  \n",
      "3           1.0  \n",
      "4           1.0  \n",
      "...         ...  \n",
      "87015       0.0  \n",
      "87016       0.0  \n",
      "87017       0.0  \n",
      "87018       0.0  \n",
      "87019       0.0  \n",
      "\n",
      "[87020 rows x 49 columns]\n",
      "0        0.0\n",
      "1        0.0\n",
      "2        0.0\n",
      "3        0.0\n",
      "4        0.0\n",
      "        ... \n",
      "87015    0.0\n",
      "87016    0.0\n",
      "87017    0.0\n",
      "87018    0.0\n",
      "87019    0.0\n",
      "Name: Disbursed, Length: 87020, dtype: float64\n"
     ]
    }
   ],
   "source": [
    "x_columns = [x for x in train.columns if x not in [target, IDcol]]\n",
    "X = train[x_columns]\n",
    "print(X)\n",
    "y = train['Disbursed']\n",
    "print(y)\n"
   ]
  },
  {
   "cell_type": "code",
   "execution_count": 29,
   "metadata": {},
   "outputs": [],
   "source": [
    "gbm0 = GradientBoostingClassifier(random_state=10)\n",
    "gbm0.fit(X, y)\n",
    "y_pred = gbm0.predict(X)\n",
    "y_predprob = gbm0.predict_proba(X)[:, 1]\n"
   ]
  },
  {
   "cell_type": "code",
   "execution_count": 30,
   "metadata": {},
   "outputs": [
    {
     "name": "stdout",
     "output_type": "stream",
     "text": [
      "Accuracy :0.9856\n",
      "AUC Score (Train) :0.8623\n"
     ]
    }
   ],
   "source": [
    "print(\"Accuracy :{:.4}\".format(metrics.accuracy_score(y.values, y_pred)))\n",
    "print(\"AUC Score (Train) :{:.4}\".format(metrics.roc_auc_score(y, y_predprob)))\n"
   ]
  }
 ],
 "metadata": {
  "kernelspec": {
   "display_name": "Python 3.10.7 64-bit (microsoft store)",
   "language": "python",
   "name": "python3"
  },
  "language_info": {
   "codemirror_mode": {
    "name": "ipython",
    "version": 3
   },
   "file_extension": ".py",
   "mimetype": "text/x-python",
   "name": "python",
   "nbconvert_exporter": "python",
   "pygments_lexer": "ipython3",
   "version": "3.10.7"
  },
  "orig_nbformat": 4,
  "vscode": {
   "interpreter": {
    "hash": "b29b1818125b125cf2167bff6cce1f830eabd3f673e3b259123e1dee05bd38cd"
   }
  }
 },
 "nbformat": 4,
 "nbformat_minor": 2
}
